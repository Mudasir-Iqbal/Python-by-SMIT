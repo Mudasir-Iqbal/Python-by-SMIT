{
  "cells": [
    {
      "cell_type": "markdown",
      "metadata": {
        "id": "XLFr4w_7OFN7"
      },
      "source": [
        "1. Write a Python program to create a class representing a Circle. Include methods to calculate its area and perimeter."
      ]
    },
    {
      "cell_type": "code",
      "execution_count": null,
      "metadata": {},
      "outputs": [],
      "source": [
        "class Circle:\n",
        "    def __init__(self, radius):\n",
        "        self.radius = radius\n",
        "\n",
        "    def calculate_area(self):\n",
        "        return 3.14159 * (self.radius ** 2)\n",
        "\n",
        "    def calculate_perimeter(self):\n",
        "        return 2 * 3.14159 * self.radius\n",
        "\n",
        "# Example usage\n",
        "circle = Circle(5)\n",
        "print(f\"Area of the circle: {circle.calculate_area():.2f}\")\n",
        "print(f\"Perimeter of the circle: {circle.calculate_perimeter():.2f}\")\n"
      ]
    },
    {
      "cell_type": "markdown",
      "metadata": {
        "id": "CBPk4mH4OTCO"
      },
      "source": [
        "2. Write a Python program to create a person class. Include attributes like name, country and date of birth. Implement a method to determine the person's age.\n"
      ]
    },
    {
      "cell_type": "code",
      "execution_count": null,
      "metadata": {},
      "outputs": [],
      "source": [
        "class Person:\n",
        "    def __init__(self, name, country, birth_year, birth_month, birth_day):\n",
        "        self.name = name\n",
        "        self.country = country\n",
        "        self.birth_year = birth_year\n",
        "        self.birth_month = birth_month\n",
        "        self.birth_day = birth_day\n",
        "\n",
        "    def calculate_age(self, current_year, current_month, current_day):\n",
        "        age = current_year - self.birth_year\n",
        "        if current_month < self.birth_month or (current_month == self.birth_month and current_day < self.birth_day):\n",
        "            age -= 1\n",
        "        return age\n",
        "\n",
        "# Example usage\n",
        "person = Person(\"Alice\", \"USA\", 1990, 5, 15)\n",
        "print(f\"{person.name} from {person.country} is {person.calculate_age(2024, 8, 17)} years old.\")\n"
      ]
    },
    {
      "cell_type": "markdown",
      "metadata": {},
      "source": [
        "3. Write a Python program to create a calculator class. Include methods for basic arithmetic operations."
      ]
    },
    {
      "cell_type": "code",
      "execution_count": null,
      "metadata": {},
      "outputs": [],
      "source": [
        "class Calculator:\n",
        "    def add(self, a, b):\n",
        "        return a + b\n",
        "\n",
        "    def subtract(self, a, b):\n",
        "        return a - b\n",
        "\n",
        "    def multiply(self, a, b):\n",
        "        return a * b\n",
        "\n",
        "    def divide(self, a, b):\n",
        "        if b != 0:\n",
        "            return a / b\n",
        "        else:\n",
        "            return \"Error: Division by zero\"\n",
        "\n",
        "# Example usage\n",
        "calc = Calculator()\n",
        "print(f\"Addition: {calc.add(10, 5)}\")\n",
        "print(f\"Subtraction: {calc.subtract(10, 5)}\")\n",
        "print(f\"Multiplication: {calc.multiply(10, 5)}\")\n",
        "print(f\"Division: {calc.divide(10, 5)}\")\n"
      ]
    }
  ],
  "metadata": {
    "colab": {
      "provenance": []
    },
    "kernelspec": {
      "display_name": "Python 3",
      "name": "python3"
    },
    "language_info": {
      "codemirror_mode": {
        "name": "ipython",
        "version": 3
      },
      "file_extension": ".py",
      "mimetype": "text/x-python",
      "name": "python",
      "nbconvert_exporter": "python",
      "pygments_lexer": "ipython3",
      "version": "3.12.4"
    }
  },
  "nbformat": 4,
  "nbformat_minor": 0
}
