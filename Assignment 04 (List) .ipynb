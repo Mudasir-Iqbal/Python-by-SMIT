{
 "cells": [
  {
   "cell_type": "markdown",
   "id": "86a801a5",
   "metadata": {},
   "source": [
    "1. Write a program that accepts a list from user and print the alternate element of list. \n"
   ]
  },
  {
   "cell_type": "code",
   "execution_count": null,
   "id": "bd676d4e",
   "metadata": {},
   "outputs": [],
   "source": [
    "lst = input(\"Enter a list of elements separated by spaces: \").split()\n",
    "\n",
    "# Print every alternate element\n",
    "for i in range(0, len(lst), 2):\n",
    "    print(lst[i])\n"
   ]
  },
  {
   "cell_type": "markdown",
   "id": "27b3e168",
   "metadata": {},
   "source": [
    "2. Write a program that accepts a list from user. Your program should reverse the content of list and \n",
    "display it. Do not use reverse() method. \n"
   ]
  },
  {
   "cell_type": "code",
   "execution_count": null,
   "id": "0d4c365a",
   "metadata": {},
   "outputs": [],
   "source": [
    "lst = input(\"Enter a list of elements separated by spaces: \").split()\n",
    "\n",
    "reversed_list = []\n",
    "for i in range(len(lst) - 1, -1, -1):\n",
    "    reversed_list.append(lst[i])\n",
    "\n",
    "print(\"Reversed list:\", reversed_list)\n"
   ]
  },
  {
   "cell_type": "markdown",
   "id": "d843adfa",
   "metadata": {},
   "source": [
    " 3. Find and display the largest number of a list without using built-in function max(). Your program \n",
    "should ask the user to input values in list from keyboard. "
   ]
  },
  {
   "cell_type": "code",
   "execution_count": null,
   "id": "d6267d68",
   "metadata": {},
   "outputs": [],
   "source": [
    "lst = list(map(int, input(\"Enter a list of numbers separated by spaces: \").split()))\n",
    "\n",
    "largest = lst[0]\n",
    "for num in lst:\n",
    "    if num > largest:\n",
    "        largest = num\n",
    "\n",
    "print(\"The largest number is:\", largest)\n"
   ]
  },
  {
   "cell_type": "markdown",
   "id": "404b607b",
   "metadata": {},
   "source": [
    "4. Write a program that rotates the element of a list so that the element at the first index moves to the \n",
    "second index, the element in the second index moves to the third index, etc., and the element in the last \n",
    "index moves to the first index. \n"
   ]
  },
  {
   "cell_type": "code",
   "execution_count": null,
   "id": "293c781a",
   "metadata": {},
   "outputs": [],
   "source": [
    "lst = input(\"Enter a list of elements separated by spaces: \").split()\n",
    "\n",
    "rotated_list = lst[1:] + lst[:1]\n",
    "\n",
    "print(\"Rotated list:\", rotated_list)\n"
   ]
  },
  {
   "cell_type": "markdown",
   "id": "d4b9c255",
   "metadata": {},
   "source": [
    "5. Write a program that input a string and ask user to delete a given word from a string. "
   ]
  },
  {
   "cell_type": "code",
   "execution_count": null,
   "id": "d2530fa4",
   "metadata": {},
   "outputs": [],
   "source": [
    "string = input(\"Enter a string: \")\n",
    "word_to_delete = input(\"Enter the word to delete: \")\n",
    "\n",
    "# Replace the word with an empty string\n",
    "new_string = string.replace(word_to_delete, \"\").strip()\n",
    "\n",
    "print(\"New string:\", new_string)\n"
   ]
  },
  {
   "cell_type": "markdown",
   "id": "3a267ab1",
   "metadata": {},
   "source": [
    "6. Write a program that reads a string from the user containing a date in the form mm/dd/yyyy. It \n",
    "should print the date in the form March 12, 2021"
   ]
  },
  {
   "cell_type": "code",
   "execution_count": null,
   "id": "6a8dc715",
   "metadata": {},
   "outputs": [],
   "source": [
    "date_string = input(\"Enter a date in mm/dd/yyyy format: \")\n",
    "\n",
    "month, day, year = date_string.split('/')\n",
    "\n",
    "months = [\"January\", \"February\", \"March\", \"April\", \"May\", \"June\", \n",
    "          \"July\", \"August\", \"September\", \"October\", \"November\", \"December\"]\n",
    "\n",
    "month_name = months[int(month) - 1]\n",
    "\n",
    "print(f\"{month_name} {int(day)}, {year}\")\n"
   ]
  },
  {
   "cell_type": "markdown",
   "id": "f23b7d77",
   "metadata": {},
   "source": [
    "7. Write a program with a function that accepts a string from keyboard and create a new string after \n",
    "converting character of each word capitalized. For instance, if the sentence is \"stop and smell the roses.\" \n",
    "the output should be \"Stop And Smell The Roses\" "
   ]
  },
  {
   "cell_type": "code",
   "execution_count": null,
   "id": "462ba50e",
   "metadata": {},
   "outputs": [],
   "source": [
    "def capitalize_words(string):\n",
    "    words = string.split()\n",
    "    capitalized_words = [word.capitalize() for word in words]\n",
    "    return \" \".join(capitalized_words)\n",
    "\n",
    "string = input(\"Enter a string: \")\n",
    "new_string = capitalize_words(string)\n",
    "\n",
    "print(\"Capitalized string:\", new_string)\n"
   ]
  },
  {
   "cell_type": "markdown",
   "id": "d629c5a7",
   "metadata": {},
   "source": [
    "8. Find the sum of each row of matrix of size m x n. For example for the following matrix output will be \n",
    "like this : \n",
    "Sum of row 1 = 32 \n",
    "Sum of row 2 = 31 \n",
    "Sum of row 3 = 63 \n"
   ]
  },
  {
   "cell_type": "code",
   "execution_count": null,
   "id": "005fc0e1",
   "metadata": {},
   "outputs": [],
   "source": [
    "\n",
    "matrix = [\n",
    "    [2, 11, 7, 12],\n",
    "    [5, 2, 9, 15],\n",
    "    [8, 3, 10, 42]\n",
    "]\n",
    "\n",
    "for i in range(len(matrix)):\n",
    "    row_sum = sum(matrix[i])\n",
    "    print(f\"Sum of row {i + 1} = {row_sum}\")\n"
   ]
  },
  {
   "cell_type": "markdown",
   "id": "327e51e8",
   "metadata": {},
   "source": [
    "9. Write a program to add two matrices of size n x m."
   ]
  },
  {
   "cell_type": "code",
   "execution_count": null,
   "id": "b0c8e12c",
   "metadata": {},
   "outputs": [],
   "source": [
    "n = int(input(\"Enter the number of rows: \"))\n",
    "m = int(input(\"Enter the number of columns: \"))\n",
    "\n",
    "print(\"Enter the elements of the first matrix:\")\n",
    "matrix1 = [[int(input()) for _ in range(m)] for _ in range(n)]\n",
    "\n",
    "print(\"Enter the elements of the second matrix:\")\n",
    "matrix2 = [[int(input()) for _ in range(m)] for _ in range(n)]\n",
    "\n",
    "result = [[matrix1[i][j] + matrix2[i][j] for j in range(m)] for i in range(n)]\n",
    "\n",
    "print(\"Resultant matrix after addition:\")\n",
    "for row in result:\n",
    "    print(row)\n"
   ]
  },
  {
   "cell_type": "markdown",
   "id": "c215ab4e",
   "metadata": {},
   "source": [
    "10. Write a program to multiply two matrices"
   ]
  },
  {
   "cell_type": "code",
   "execution_count": null,
   "id": "1f327966",
   "metadata": {},
   "outputs": [],
   "source": [
    "n = int(input(\"Enter the number of rows in the first matrix: \"))\n",
    "m = int(input(\"Enter the number of columns in the first matrix (and rows in the second matrix): \"))\n",
    "p = int(input(\"Enter the number of columns in the second matrix: \"))\n",
    "\n",
    "print(\"Enter the elements of the first matrix:\")\n",
    "matrix1 = [[int(input()) for _ in range(m)] for _ in range(n)]\n",
    "\n",
    "print(\"Enter the elements of the second matrix:\")\n",
    "matrix2 = [[int(input()) for _ in range(p)] for _ in range(m)]\n",
    "\n",
    "result = [[0 for _ in range(p)] for _ in range(n)]\n",
    "\n",
    "\n",
    "for i in range(n):\n",
    "    for j in range(p):\n",
    "        for k in range(m):\n",
    "            result[i][j] += matrix1[i][k] * matrix2[k][j]\n",
    "\n",
    "print(\"Resultant matrix after multiplication:\")\n",
    "for row in result:\n",
    "    print(row)\n"
   ]
  }
 ],
 "metadata": {
  "kernelspec": {
   "display_name": "Python 3 (ipykernel)",
   "language": "python",
   "name": "python3"
  },
  "language_info": {
   "codemirror_mode": {
    "name": "ipython",
    "version": 3
   },
   "file_extension": ".py",
   "mimetype": "text/x-python",
   "name": "python",
   "nbconvert_exporter": "python",
   "pygments_lexer": "ipython3",
   "version": "3.11.7"
  }
 },
 "nbformat": 4,
 "nbformat_minor": 5
}
