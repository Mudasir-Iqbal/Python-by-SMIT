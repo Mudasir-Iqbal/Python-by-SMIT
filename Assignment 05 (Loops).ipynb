{
 "cells": [
  {
   "cell_type": "markdown",
   "id": "76c269ed",
   "metadata": {},
   "source": [
    "1. Write a Python program to print the numbers from 1 to 10 using a for loop. "
   ]
  },
  {
   "cell_type": "code",
   "execution_count": null,
   "id": "1b8c00a7",
   "metadata": {},
   "outputs": [],
   "source": [
    "for i in range(1, 11):\n",
    "    print(i)\n"
   ]
  },
  {
   "cell_type": "markdown",
   "id": "dbe346f4",
   "metadata": {},
   "source": [
    "2. Write a Python program to print the numbers from 20 to 1 using a while loop."
   ]
  },
  {
   "cell_type": "code",
   "execution_count": null,
   "id": "6d42a28b",
   "metadata": {},
   "outputs": [],
   "source": [
    "i = 20\n",
    "while i >= 1:\n",
    "    print(i)\n",
    "    i -= 1\n"
   ]
  },
  {
   "cell_type": "markdown",
   "id": "ceb10bf9",
   "metadata": {},
   "source": [
    "3. Write a program to print even numbers from 1 to 10. \n"
   ]
  },
  {
   "cell_type": "code",
   "execution_count": null,
   "id": "6d6af85e",
   "metadata": {},
   "outputs": [],
   "source": [
    "for i in range(2, 11, 2):\n",
    "    print(i)\n"
   ]
  },
  {
   "cell_type": "markdown",
   "id": "82d8138d",
   "metadata": {},
   "source": [
    "4. Write a program that prompts the user to enter a number n and prints all the \n",
    "numbers from 1 to n."
   ]
  },
  {
   "cell_type": "code",
   "execution_count": null,
   "id": "568f6710",
   "metadata": {},
   "outputs": [],
   "source": [
    "n = int(input(\"Enter a number: \"))\n",
    "for i in range(1, n + 1):\n",
    "    print(i)\n"
   ]
  },
  {
   "cell_type": "markdown",
   "id": "ec8c8f9e",
   "metadata": {},
   "source": [
    "5. Write a program that prompts the user to enter a number n, and then prints all the \n",
    "odd numbers between 1 and n. "
   ]
  },
  {
   "cell_type": "code",
   "execution_count": null,
   "id": "3c1ae35a",
   "metadata": {},
   "outputs": [],
   "source": [
    "n = int(input(\"Enter a number: \"))\n",
    "for i in range(1, n + 1, 2):\n",
    "    print(i)\n"
   ]
  },
  {
   "cell_type": "markdown",
   "id": "d659384b",
   "metadata": {},
   "source": [
    "6. Write a program that prints 'Happy Birthday!' five times on screen. "
   ]
  },
  {
   "cell_type": "code",
   "execution_count": null,
   "id": "9e7a336d",
   "metadata": {},
   "outputs": [],
   "source": [
    "for i in range(5):\n",
    "    print(\"Happy Birthday!\")\n"
   ]
  },
  {
   "cell_type": "markdown",
   "id": "0162ae1d",
   "metadata": {},
   "source": [
    "7. Write a program that takes a number n as input from the user and generates the first \n",
    "n terms of the series formed by squaring the natural numbers. \n",
    "Sample output \n",
    "Enter a number: 6 \n",
    "The first 6 terms of the series are: \n",
    "1 4 9 16 25 36 "
   ]
  },
  {
   "cell_type": "code",
   "execution_count": null,
   "id": "89dcf396",
   "metadata": {},
   "outputs": [],
   "source": [
    "n = int(input(\"Enter a number: \"))\n",
    "print(f\"The first {n} terms of the series are:\")\n",
    "for i in range(1, n + 1):\n",
    "    print(i ** 2, end=\" \")\n"
   ]
  },
  {
   "cell_type": "markdown",
   "id": "0b2ec082",
   "metadata": {},
   "source": [
    "8. Write a program that prompts the user to input a number and prints its multiplication \n",
    "table. "
   ]
  },
  {
   "cell_type": "code",
   "execution_count": null,
   "id": "8d15d898",
   "metadata": {},
   "outputs": [],
   "source": [
    "n = int(input(\"Enter a number: \"))\n",
    "for i in range(1, 11):\n",
    "    print(f\"{n} x {i} = {n * i}\")\n"
   ]
  },
  {
   "cell_type": "markdown",
   "id": "81f22d91",
   "metadata": {},
   "source": [
    "9. Write a Python program to print the first 8 terms of an arithmetic progression starting \n",
    "with 3 and having a common difference of 4. \n",
    "The program should output the following sequence: \n",
    "3 7 11 15 19 23 27 31"
   ]
  },
  {
   "cell_type": "code",
   "execution_count": null,
   "id": "c9d30307",
   "metadata": {},
   "outputs": [],
   "source": [
    "n = int(input(\"Enter a number: \"))\n",
    "for i in range(1, 11):\n",
    "    print(f\"{n} x {i} = {n * i}\")\n"
   ]
  },
  {
   "cell_type": "markdown",
   "id": "627c59b4",
   "metadata": {},
   "source": [
    "10. Write a Python program to print the first 6 terms of a geometric sequence starting \n",
    "with 2 and having a common ratio of 3. \n",
    "The program should output the following sequence: \n",
    "2 6 18 54 162 486 "
   ]
  },
  {
   "cell_type": "code",
   "execution_count": null,
   "id": "b64271ba",
   "metadata": {},
   "outputs": [],
   "source": [
    "a = 2\n",
    "r = 3\n",
    "for i in range(6):\n",
    "    print(a * (r ** i), end=\" \")\n"
   ]
  },
  {
   "cell_type": "markdown",
   "id": "c808705f",
   "metadata": {},
   "source": [
    "11. Write a program that asks the user for a positive integer value. The program should \n",
    "calculate the sum of all the integers from 1 up to the number entered. For example, if \n",
    "the user enters 20, the loop will find the sum of 1, 2, 3, 4, ... 20. "
   ]
  },
  {
   "cell_type": "code",
   "execution_count": null,
   "id": "d6f9ee05",
   "metadata": {},
   "outputs": [],
   "source": [
    "n = int(input(\"Enter a positive integer: \"))\n",
    "total_sum = sum(range(1, n + 1))\n",
    "print(f\"The sum of all integers from 1 to {n} is: {total_sum}\")\n"
   ]
  },
  {
   "cell_type": "markdown",
   "id": "20d7c14a",
   "metadata": {},
   "source": [
    "12. write a program that takes a positive integer N as input and calculates the sum of \n",
    "the reciprocals of all numbers from 1 up to N. The program should display the final sum. \n",
    "Output of the program should be like: \n",
    "Enter a positive integer: 5 \n",
    "The sum of reciprocals from 1 to 5 is: 2.28 \n"
   ]
  },
  {
   "cell_type": "code",
   "execution_count": null,
   "id": "d3033614",
   "metadata": {},
   "outputs": [],
   "source": [
    "n = int(input(\"Enter a positive integer: \"))\n",
    "reciprocal_sum = sum(1 / i for i in range(1, n + 1))\n",
    "print(f\"The sum of reciprocals from 1 to {n} is: {round(reciprocal_sum, 2)}\")\n"
   ]
  },
  {
   "cell_type": "markdown",
   "id": "946045aa",
   "metadata": {},
   "source": [
    "13. Write a program that prompts the user to enter a number and repeats this process 5 \n",
    "times. The program should accumulate the numbers entered and then display the final \n",
    "running total. \n",
    "Sample Output: \n",
    "Enter a number: 10 \n",
    "Enter a number: 15 \n",
    "Enter a number: 35 \n",
    "Enter a number: 40 \n",
    "Enter a number: 50 \n",
    "The final running total is: 150 \n"
   ]
  },
  {
   "cell_type": "code",
   "execution_count": null,
   "id": "ad9f7276",
   "metadata": {},
   "outputs": [],
   "source": [
    "total = 0\n",
    "for i in range(5):\n",
    "    num = int(input(\"Enter a number: \"))\n",
    "    total += num\n",
    "print(f\"The final running total is: {total}\")\n"
   ]
  },
  {
   "cell_type": "markdown",
   "id": "0d0f70a1",
   "metadata": {},
   "source": [
    "14. Write a program that prompts the user to enter a positive integer and calculates its \n",
    "factorial. The factorial of a positive integer 'n' is denoted as 'n!' and is calculated by \n",
    "multiplying all the integers from 1 to 'n' together. For example, the factorial of 5 \n",
    "(denoted as 5!) is calculated as 1 x 2 x 3 x 4 x 5. \n",
    "The program should display the factorial value if the input is a positive number, or \n",
    "display a message stating that the factorial does not exist for negative numbers. \n",
    "Additionally, for an input of zero, the program should output that the factorial of 0 is 1. "
   ]
  },
  {
   "cell_type": "code",
   "execution_count": null,
   "id": "7ee88744",
   "metadata": {},
   "outputs": [],
   "source": [
    "n = int(input(\"Enter a positive integer: \"))\n",
    "if n < 0:\n",
    "    print(\"Factorial does not exist for negative numbers.\")\n",
    "elif n == 0:\n",
    "    print(\"The factorial of 0 is 1.\")\n",
    "else:\n",
    "    factorial = 1\n",
    "    for i in range(1, n + 1):\n",
    "        factorial *= i\n",
    "    print(f\"The factorial of {n} is: {factorial}\")\n"
   ]
  },
  {
   "cell_type": "markdown",
   "id": "49f7f540",
   "metadata": {},
   "source": [
    "15. Write a Python program that prompts the user to enter a base number and an \n",
    "exponent, and then calculates the power of the base to the exponent. The program \n",
    "should not use the exponentiation operator (**) or the math.pow() function. The \n",
    "program should handle both positive and negative exponents."
   ]
  },
  {
   "cell_type": "code",
   "execution_count": null,
   "id": "b47aeb32",
   "metadata": {},
   "outputs": [],
   "source": [
    "base = float(input(\"Enter the base number: \"))\n",
    "exponent = int(input(\"Enter the exponent: \"))\n",
    "\n",
    "result = 1\n",
    "if exponent > 0:\n",
    "    for i in range(exponent):\n",
    "        result *= base\n",
    "elif exponent < 0:\n",
    "    for i in range(-exponent):\n",
    "        result /= base\n",
    "\n",
    "print(f\"{base} to the power of {exponent} is: {result}\")\n"
   ]
  }
 ],
 "metadata": {
  "kernelspec": {
   "display_name": "Python 3 (ipykernel)",
   "language": "python",
   "name": "python3"
  },
  "language_info": {
   "codemirror_mode": {
    "name": "ipython",
    "version": 3
   },
   "file_extension": ".py",
   "mimetype": "text/x-python",
   "name": "python",
   "nbconvert_exporter": "python",
   "pygments_lexer": "ipython3",
   "version": "3.11.7"
  }
 },
 "nbformat": 4,
 "nbformat_minor": 5
}
